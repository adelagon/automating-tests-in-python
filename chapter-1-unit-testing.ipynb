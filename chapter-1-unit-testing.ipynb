{
 "cells": [
  {
   "cell_type": "markdown",
   "metadata": {},
   "source": [
    "## Unit Testing in Python\n",
    "\n",
    "\n",
    "### Code to be tested\n",
    "For this example, we will be writing unit tests on a piece of code below. Make sure that you run the cell below before running the next code cells."
   ]
  },
  {
   "cell_type": "code",
   "execution_count": 1,
   "metadata": {},
   "outputs": [
    {
     "name": "stdout",
     "output_type": "stream",
     "text": [
      "5\n"
     ]
    }
   ],
   "source": [
    "import random\n",
    "\n",
    "class Pokemon():\n",
    "    def __init__(self, name, attacks={}):\n",
    "        self.name = name\n",
    "        self.attacks = attacks\n",
    "\n",
    "    def add_attack(self, name, min, max):\n",
    "        \"\"\"\n",
    "        Add an attack\n",
    "        \"\"\"\n",
    "        self.attacks[name] = {\"min\": min, \"max\": max}\n",
    "\n",
    "    def attack(self, name):\n",
    "        \"\"\"\n",
    "        Returns a random damage given the attack name\n",
    "        \"\"\"\n",
    "        return random.randrange(\n",
    "            self.attacks[name][\"min\"],\n",
    "            self.attacks[name][\"max\"]\n",
    "        )\n",
    "\n",
    "eevee = Pokemon(\"eevee\")\n",
    "eevee.add_attack(\"tail-whip\", 5, 10)\n",
    "print(eevee.attack(\"tail-whip\"))"
   ]
  },
  {
   "cell_type": "markdown",
   "metadata": {},
   "source": [
    "### Using unittest\n",
    "\n",
    "Python already has a built-in testing framework called [unittest](https://docs.python.org/3/library/unittest.html). Which has been inspired by JUnit.\n",
    "\n",
    "In its most basic form, unittests are grouped together into TestCases which each tests prefixed with *test*\n",
    "\n",
    "```python\n",
    "class TestGroup(unittest.TestCase):\n",
    "    def setUp(self):\n",
    "        ...\n",
    "    def test_1(self):\n",
    "        ...\n",
    "    def test_N(self):\n",
    "        ...\n",
    "    def tearDown(self):\n",
    "        ...\n",
    "```\n",
    "\n",
    "```setUp()``` and ```tearDown()``` are useful methods to implement as they allow you to define instructions that will be executed before and after each test method.\n",
    "\n",
    "A sample implementation of the unittest for the Pokemon class is shown on a executable cell below:"
   ]
  },
  {
   "cell_type": "code",
   "execution_count": 2,
   "metadata": {},
   "outputs": [
    {
     "name": "stderr",
     "output_type": "stream",
     "text": [
      "test_get_attack_damage (__main__.PokemonAttackMethods) ... ok\n",
      "test_pokemon_add_attack (__main__.PokemonAttackMethods) ... ok\n",
      "test_pokemon_name (__main__.PokemonAttackMethods) ... ok\n",
      "\n",
      "----------------------------------------------------------------------\n",
      "Ran 3 tests in 0.002s\n",
      "\n",
      "OK\n"
     ]
    },
    {
     "data": {
      "text/plain": [
       "<unittest.main.TestProgram at 0x10d52c070>"
      ]
     },
     "execution_count": 2,
     "metadata": {},
     "output_type": "execute_result"
    }
   ],
   "source": [
    "import unittest\n",
    "\n",
    "class PokemonAttackMethods(unittest.TestCase):\n",
    "\n",
    "    def setUp(self):\n",
    "        self.pokemon = Pokemon(\"eevee\")\n",
    "        self.pokemon.add_attack(\"tail-whip\", 5, 10)\n",
    "\n",
    "    def test_pokemon_name(self):\n",
    "        self.assertEqual(self.pokemon.name, \"eevee\")\n",
    "\n",
    "    def test_pokemon_add_attack(self):\n",
    "        self.assertEqual(self.pokemon.attacks['tail-whip'], {\"min\": 5, \"max\": 10})\n",
    "\n",
    "    def test_get_attack_damage(self):\n",
    "        damage = self.pokemon.attack(\"tail-whip\")\n",
    "        assert damage in range(5, 10)\n",
    "\n",
    "    def tearDown(self):\n",
    "        \"\"\"\n",
    "        Any cleanup you want here (ie. cleaning side effects)\n",
    "        \"\"\"\n",
    "\n",
    "\n",
    "unittest.main(argv=[''], exit=False, verbosity=2)"
   ]
  },
  {
   "cell_type": "markdown",
   "metadata": {},
   "source": [
    "### Using pytest\n",
    "\n",
    "One of the most popular testing frameworks in python is [pytest](https://docs.pytest.org/en/stable/). It can be used not just for unit tests but also for functional tests as well and it has a huge collection of [plugins](http://plugincompat.herokuapp.com/) that extends its functionality. The following test automation examples on these setup of notebooks will use pytest moving forward.\n",
    "\n",
    "In order to run the pytest script within jupyter. Please make sure that you execute the cell below in order to load the jupyter-pytest plugin."
   ]
  },
  {
   "cell_type": "code",
   "execution_count": 3,
   "metadata": {},
   "outputs": [],
   "source": [
    "import ipytest\n",
    "ipytest.autoconfig()"
   ]
  },
  {
   "cell_type": "markdown",
   "metadata": {},
   "source": [
    "The code below is an implementation of the same unit test for the Pokemon class in pytest. Do take note that the first line is specific for jupyter only, remove if you are going to run it standalone."
   ]
  },
  {
   "cell_type": "code",
   "execution_count": 4,
   "metadata": {},
   "outputs": [
    {
     "name": "stderr",
     "output_type": "stream",
     "text": [
      "/Users/adelagon/workwork/automating-tests-in-python/.env/lib/python3.8/site-packages/selenium/webdriver/firefox/firefox_profile.py:208: SyntaxWarning: \"is\" with a literal. Did you mean \"==\"?\n",
      "  if setting is None or setting is '':\n"
     ]
    },
    {
     "name": "stdout",
     "output_type": "stream",
     "text": [
      "====================================================================================================== test session starts ======================================================================================================\n",
      "platform darwin -- Python 3.8.2, pytest-6.1.1, py-1.9.0, pluggy-0.13.1 -- /Users/adelagon/workwork/automating-tests-in-python/.env/bin/python3\n",
      "cachedir: .pytest_cache\n",
      "rootdir: /Users/adelagon/workwork/automating-tests-in-python\n",
      "plugins: splinter-3.2.0, bdd-4.0.1, Faker-4.9.0\n",
      "collecting ... collected 6 items\n",
      "\n",
      "tmpq7nlqg4o.py::PokemonAttackMethods::test_pokemon_name PASSED\n",
      "tmpq7nlqg4o.py::PokemonAttackMethods::test_pokemon_add_attack PASSED\n",
      "tmpq7nlqg4o.py::PokemonAttackMethods::test_get_attack_damage PASSED\n",
      "tmpq7nlqg4o.py::test_pokemon_name PASSED\n",
      "tmpq7nlqg4o.py::test_pokemon_add_attack PASSED\n",
      "tmpq7nlqg4o.py::test_get_attack_damage PASSEDTearing down...\n",
      "\n",
      "\n",
      "======================================================================================================= 6 passed in 0.13s =======================================================================================================\n"
     ]
    }
   ],
   "source": [
    "%%run_pytest[clean] -svv\n",
    "import pytest\n",
    "\n",
    "@pytest.fixture(scope=\"module\")\n",
    "def pokemon():\n",
    "    p = Pokemon(\"eevee\")\n",
    "    p.add_attack(\"tail-whip\", 5, 10)\n",
    "    yield p # provide the fixture value\n",
    "    ### Anything Beyond yield is the teardown code\n",
    "    print(\"Tearing down...\")\n",
    "\n",
    "def test_pokemon_name(pokemon):\n",
    "    assert pokemon.name == \"eevee\"\n",
    "\n",
    "def test_pokemon_add_attack(pokemon):\n",
    "    assert pokemon.attacks['tail-whip'] == {\"min\": 5, \"max\": 10}\n",
    "\n",
    "def test_get_attack_damage(pokemon):\n",
    "    damage = pokemon.attack(\"tail-whip\")\n",
    "    assert damage in range (5, 10)\n",
    "\n"
   ]
  },
  {
   "cell_type": "markdown",
   "metadata": {},
   "source": [
    "pytest has a concept of **fixtures** that initialize tests. The fixture on the code above initializes and tears down the test run. Pytest has a set of useful built-in of useful fixtures [here](https://docs.pytest.org/en/stable/fixture.html) and each fixture can be created and destroyed based on their [scope](https://docs.pytest.org/en/stable/fixture.html#fixture-scopes). On the example above the *pokemon* fixture has a scope of *module* which is destroyed during teardown of the last test in the module."
   ]
  },
  {
   "cell_type": "markdown",
   "metadata": {},
   "source": [
    "### Generating Mock Data for tests\n",
    "\n",
    "It is a testing best practice to use mock data to provide unpredictability and variance to tests. One of the most useful libraries for generating mock data is the **Faker** (https://pypi.org/project/Faker/) library. A sample code below generates random names, email, and phone numbers:"
   ]
  },
  {
   "cell_type": "code",
   "execution_count": 5,
   "metadata": {},
   "outputs": [
    {
     "name": "stdout",
     "output_type": "stream",
     "text": [
      "Alex Wright - jilljohnson@hotmail.com - 001-700-829-1573x845\n",
      "Andrew Rogers - autumnwhite@hotmail.com - +1-331-736-8307x575\n",
      "Anthony Davis - thomaspowell@garcia.com - +1-543-250-5654x126\n",
      "Craig Johnson - yday@frye-smith.org - 832-965-6637\n",
      "Timothy Rogers - garciakristen@flores.com - (636)614-8022\n"
     ]
    }
   ],
   "source": [
    "from faker import Faker\n",
    "\n",
    "fake = Faker()\n",
    "for i in range(5):\n",
    "    print(\"{} - {} - {}\".format(fake.name(), fake.email(), fake.phone_number()))"
   ]
  },
  {
   "cell_type": "markdown",
   "metadata": {},
   "source": [
    "Faker has these set of [standard](https://faker.readthedocs.io/en/latest/providers.html) and [community](https://faker.readthedocs.io/en/latest/communityproviders.html) providers.\n",
    "\n",
    "Faker also plays along well with pytest. The sample code below improves upon the previous pytest by incorporating Faker to provide the mock inputs."
   ]
  },
  {
   "cell_type": "code",
   "execution_count": 6,
   "metadata": {},
   "outputs": [
    {
     "name": "stdout",
     "output_type": "stream",
     "text": [
      "====================================================================================================== test session starts ======================================================================================================\n",
      "platform darwin -- Python 3.8.2, pytest-6.1.1, py-1.9.0, pluggy-0.13.1 -- /Users/adelagon/workwork/automating-tests-in-python/.env/bin/python3\n",
      "cachedir: .pytest_cache\n",
      "rootdir: /Users/adelagon/workwork/automating-tests-in-python\n",
      "plugins: splinter-3.2.0, bdd-4.0.1, Faker-4.9.0\n",
      "collecting ... collected 6 items\n",
      "\n",
      "tmp_a7oyjc2.py::PokemonAttackMethods::test_pokemon_name PASSED\n",
      "tmp_a7oyjc2.py::PokemonAttackMethods::test_pokemon_add_attack PASSED\n",
      "tmp_a7oyjc2.py::PokemonAttackMethods::test_get_attack_damage PASSED\n",
      "tmp_a7oyjc2.py::test_pokemon_name PASSED\n",
      "tmp_a7oyjc2.py::test_pokemon_add_attack PASSED\n",
      "tmp_a7oyjc2.py::test_get_attack_damage PASSEDTearing down...\n",
      "\n",
      "\n",
      "======================================================================================================= 6 passed in 0.10s =======================================================================================================\n"
     ]
    }
   ],
   "source": [
    "%%run_pytest[clean] -svv\n",
    "\n",
    "from faker import Faker\n",
    "\n",
    "@pytest.fixture(scope=\"module\")\n",
    "def values():\n",
    "    \"\"\"\n",
    "    Generate random values\n",
    "    \"\"\"\n",
    "    fake = Faker()\n",
    "    min_attack = fake.random_int(max=1000)\n",
    "    max_attack = min_attack + fake.random_int(max=100)\n",
    "    return {\n",
    "        \"name\": fake.name(),\n",
    "        \"attack\": fake.word(),\n",
    "        \"min\": min_attack,\n",
    "        \"max\": max_attack,\n",
    "    }\n",
    "\n",
    "@pytest.fixture(scope=\"module\")\n",
    "def pokemon(values):\n",
    "    p = Pokemon(values['name'])\n",
    "    p.add_attack(values['attack'], values['min'], values['max'])\n",
    "    yield p # provides the fixture value\n",
    "    ### Anything Beyond yield is the teardown code\n",
    "    print(\"Tearing down...\")\n",
    "\n",
    "def test_pokemon_name(pokemon, values):\n",
    "    assert values['name'] == pokemon.name\n",
    "\n",
    "def test_pokemon_add_attack(pokemon, values):\n",
    "    assert pokemon.attacks[values['attack']] == {\"min\": values['min'], \"max\": values['max']}\n",
    "\n",
    "def test_get_attack_damage(pokemon, values):\n",
    "    damage = pokemon.attack(values['attack'])\n",
    "    assert damage in range (values['min'], values['max'])"
   ]
  },
  {
   "cell_type": "code",
   "execution_count": null,
   "metadata": {},
   "outputs": [],
   "source": []
  }
 ],
 "metadata": {
  "kernelspec": {
   "display_name": "Python 3",
   "language": "python",
   "name": "python3"
  },
  "language_info": {
   "codemirror_mode": {
    "name": "ipython",
    "version": 3
   },
   "file_extension": ".py",
   "mimetype": "text/x-python",
   "name": "python",
   "nbconvert_exporter": "python",
   "pygments_lexer": "ipython3",
   "version": "3.8.2"
  }
 },
 "nbformat": 4,
 "nbformat_minor": 2
}
